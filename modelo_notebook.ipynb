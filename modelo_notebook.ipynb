{
 "cells": [
  {
   "cell_type": "markdown",
   "metadata": {},
   "source": [
    "## Modelo de recomendación ##"
   ]
  },
  {
   "cell_type": "markdown",
   "metadata": {},
   "source": [
    "Procedemos a importar herramientas que utilizaremos, cargar el data set , y realizar acciones necesarias para que nuestro modelo recomiende de manera efectiva."
   ]
  },
  {
   "cell_type": "code",
   "execution_count": 15,
   "metadata": {},
   "outputs": [],
   "source": [
    "import pandas as pd\n",
    "from sklearn.feature_extraction.text import TfidfVectorizer\n",
    "from sklearn.metrics.pairwise import cosine_similarity\n",
    "from sklearn.preprocessing import MinMaxScaler\n",
    "\n",
    "# Cargamos los datos \n",
    "data = pd.read_parquet(\"dataset_ok.parquet\")\n",
    "\n",
    "# Preprocesamiento\n",
    "\n",
    "data['vote_average_scaled'] = MinMaxScaler().fit_transform(data[['vote_average']])\n",
    "tfidf = TfidfVectorizer()\n",
    "feature_matrix = tfidf.fit_transform(data['features'])\n",
    "\n",
    "# Matriz de similitud\n",
    "similarity_matrix = cosine_similarity(feature_matrix)\n",
    "\n",
    "def recomendacion(titulo):\n",
    "    \"\"\"Recomienda películas similares a partir de un título.\n",
    "\n",
    "    Args:\n",
    "        titulo (str): Título de la película.\n",
    "\n",
    "    Returns:\n",
    "        list: Lista de títulos de películas recomendadas.\n",
    "    \"\"\"\n",
    "\n",
    "    # Buscamos el índice de la película\n",
    "    index = data[data['title'] == titulo].index[0]\n",
    "\n",
    "    # Obtenemos las similitudes de la película\n",
    "    similitudes = similarity_matrix[index]\n",
    "\n",
    "    # Combinamos con similitud de puntuación\n",
    "    similitudes = 0.5 * similitudes + 0.5 * (1 - abs(data['vote_average_scaled'] - data.loc[index, 'vote_average_scaled']))\n",
    "\n",
    "    # Obtenemos los índices de las películas más similares\n",
    "    top_indices = similitudes.argsort()[::-1][1:6]  # Excluimos la película original\n",
    "\n",
    "    # Retornamos los títulos de las películas recomendadas\n",
    "    return data.iloc[top_indices]['title'].tolist()\n",
    "\n"
   ]
  },
  {
   "cell_type": "markdown",
   "metadata": {},
   "source": [
    "Hora de probar nuestro modelo!"
   ]
  },
  {
   "cell_type": "code",
   "execution_count": 20,
   "metadata": {},
   "outputs": [
    {
     "data": {
      "text/plain": [
       "['the chronicles of narnia: the lion, the witch and the wardrobe',\n",
       " 'cirque du soleil: worlds away',\n",
       " 'post grad',\n",
       " 'shrek 2',\n",
       " 'tiny toon adventures: how i spent my vacation']"
      ]
     },
     "execution_count": 20,
     "metadata": {},
     "output_type": "execute_result"
    }
   ],
   "source": [
    "recomendacion('shrek')\n"
   ]
  }
 ],
 "metadata": {
  "kernelspec": {
   "display_name": "pi1",
   "language": "python",
   "name": "python3"
  },
  "language_info": {
   "name": "python",
   "version": "3.13.0"
  }
 },
 "nbformat": 4,
 "nbformat_minor": 2
}
