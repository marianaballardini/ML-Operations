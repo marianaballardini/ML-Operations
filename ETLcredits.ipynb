{
 "cells": [
  {
   "cell_type": "markdown",
   "metadata": {},
   "source": [
    "### ETL credits ###"
   ]
  },
  {
   "cell_type": "markdown",
   "metadata": {},
   "source": [
    "Procedemos a importar librerias necesarias, cargar el archivo, configurar vistas de impresiones. Luego visualizaremos la estructura del dataset.\n"
   ]
  },
  {
   "cell_type": "code",
   "execution_count": 1,
   "metadata": {},
   "outputs": [],
   "source": [
    "import pandas as pd\n",
    "import ast\n"
   ]
  },
  {
   "cell_type": "code",
   "execution_count": 4,
   "metadata": {},
   "outputs": [],
   "source": [
    "# Cargamos el dataset de créditos\n",
    "credits_df = pd.read_csv('credits.csv')\n",
    "\n",
    "credits_df = credits_df.copy()   # Hacemos una copia para asegurarnos que se guarden los cambios que hagamos.\n",
    "\n"
   ]
  },
  {
   "cell_type": "markdown",
   "metadata": {},
   "source": [
    "Se inspeccionará que columnas hay y que tipo de dato tienen\n"
   ]
  },
  {
   "cell_type": "code",
   "execution_count": 5,
   "metadata": {},
   "outputs": [
    {
     "name": "stdout",
     "output_type": "stream",
     "text": [
      "<class 'pandas.core.frame.DataFrame'>\n",
      "RangeIndex: 45476 entries, 0 to 45475\n",
      "Data columns (total 3 columns):\n",
      " #   Column  Non-Null Count  Dtype \n",
      "---  ------  --------------  ----- \n",
      " 0   cast    45476 non-null  object\n",
      " 1   crew    45476 non-null  object\n",
      " 2   id      45476 non-null  int64 \n",
      "dtypes: int64(1), object(2)\n",
      "memory usage: 1.0+ MB\n",
      "None\n",
      "cast    0\n",
      "crew    0\n",
      "id      0\n",
      "dtype: int64\n",
      "                cast           crew             id\n",
      "0      <class 'str'>  <class 'str'>  <class 'int'>\n",
      "1      <class 'str'>  <class 'str'>  <class 'int'>\n",
      "2      <class 'str'>  <class 'str'>  <class 'int'>\n",
      "3      <class 'str'>  <class 'str'>  <class 'int'>\n",
      "4      <class 'str'>  <class 'str'>  <class 'int'>\n",
      "...              ...            ...            ...\n",
      "45471  <class 'str'>  <class 'str'>  <class 'int'>\n",
      "45472  <class 'str'>  <class 'str'>  <class 'int'>\n",
      "45473  <class 'str'>  <class 'str'>  <class 'int'>\n",
      "45474  <class 'str'>  <class 'str'>  <class 'int'>\n",
      "45475  <class 'str'>  <class 'str'>  <class 'int'>\n",
      "\n",
      "[45476 rows x 3 columns]\n",
      "Cantidad de tipos de datos únicos por columna:\n",
      "cast    1\n",
      "crew    1\n",
      "id      1\n",
      "dtype: int64\n"
     ]
    },
    {
     "name": "stderr",
     "output_type": "stream",
     "text": [
      "C:\\Users\\Alberto\\AppData\\Local\\Temp\\ipykernel_8592\\3676547377.py:8: FutureWarning: DataFrame.applymap has been deprecated. Use DataFrame.map instead.\n",
      "  type_data_columns = credits_df[['cast', 'crew', 'id']].applymap(type)\n",
      "C:\\Users\\Alberto\\AppData\\Local\\Temp\\ipykernel_8592\\3676547377.py:14: FutureWarning: DataFrame.applymap has been deprecated. Use DataFrame.map instead.\n",
      "  tipos_por_columna = credits_df.applymap(type).nunique()\n"
     ]
    }
   ],
   "source": [
    "# Visualizamos la información del DataFrame\n",
    "print(credits_df.info())\n",
    "\n",
    "# Verificamos si hay valores nulos\n",
    "print(credits_df.isnull().sum())\n",
    "\n",
    "# Aplicamos type a todos los elementos de las columnas seleccionadas\n",
    "type_data_columns = credits_df[['cast', 'crew', 'id']].applymap(type)\n",
    "\n",
    "# Muestra los tipos de datos de cada elemento en las columnas seleccionadas\n",
    "print(type_data_columns)\n",
    "\n",
    "# Verificamos los tipos de datos de las columnas\n",
    "tipos_por_columna = credits_df.applymap(type).nunique()\n",
    "print(\"Cantidad de tipos de datos únicos por columna:\")\n",
    "print(tipos_por_columna)\n"
   ]
  },
  {
   "cell_type": "markdown",
   "metadata": {},
   "source": [
    "Como vamos a usar el id para nuestro modelo de recomendación, vamos a revisar bien dicha columna para prevenir errores"
   ]
  },
  {
   "cell_type": "code",
   "execution_count": null,
   "metadata": {},
   "outputs": [
    {
     "name": "stdout",
     "output_type": "stream",
     "text": [
      "<class 'numpy.int64'>\n"
     ]
    }
   ],
   "source": [
    "# Verificamos el tipo de dato de la columna 'id'\n",
    "print(type(credits_df['id'][0]))"
   ]
  },
  {
   "cell_type": "code",
   "execution_count": 7,
   "metadata": {},
   "outputs": [],
   "source": [
    "#Eliminamos duplicados\n",
    "credits_df.drop_duplicates(subset='id', inplace=True)"
   ]
  },
  {
   "cell_type": "markdown",
   "metadata": {},
   "source": [
    "Dado que son cadenas que representan listas de dict, se realiza la conversion necesaria para poder extraer la informacion útil "
   ]
  },
  {
   "cell_type": "code",
   "execution_count": 8,
   "metadata": {},
   "outputs": [
    {
     "name": "stdout",
     "output_type": "stream",
     "text": [
      "                                         actor_names     director_names\n",
      "0  [Tom Hanks, Tim Allen, Don Rickles, Jim Varney...    [John Lasseter]\n",
      "1  [Robin Williams, Jonathan Hyde, Kirsten Dunst,...     [Joe Johnston]\n",
      "2  [Walter Matthau, Jack Lemmon, Ann-Margret, Sop...    [Howard Deutch]\n",
      "3  [Whitney Houston, Angela Bassett, Loretta Devi...  [Forest Whitaker]\n",
      "4  [Steve Martin, Diane Keaton, Martin Short, Kim...    [Charles Shyer]\n"
     ]
    }
   ],
   "source": [
    "# Convertimos columnas 'cast' y 'crew' de string a listas de diccionarios\n",
    "credits_df['cast'] = credits_df['cast'].apply(lambda x: ast.literal_eval(x) if isinstance(x, str) else None)\n",
    "credits_df['crew'] = credits_df['crew'].apply(lambda x: ast.literal_eval(x) if isinstance(x, str) else None)\n",
    "\n",
    "# Extraemos nombres de actores en 'cast'\n",
    "credits_df['actor_names'] = credits_df['cast'].apply(lambda x: [actor['name'] for actor in x if 'name' in actor] if x else pd.NA)\n",
    "\n",
    "# Extraemos nombre de los directores en 'crew'\n",
    "credits_df['director_names'] = credits_df['crew'].apply(lambda x: [director['name'] for director in x if director.get('job') == 'Director'] if x else pd.NA)\n",
    "\n",
    "# Visualizamos algunas filas para verificar las transformaciones\n",
    "print(credits_df[['actor_names', 'director_names']].head())\n",
    "\n"
   ]
  },
  {
   "cell_type": "markdown",
   "metadata": {},
   "source": [
    "Corroboramos si hay nulos luego de extraer la informacion que necesitamos"
   ]
  },
  {
   "cell_type": "code",
   "execution_count": 9,
   "metadata": {},
   "outputs": [
    {
     "name": "stdout",
     "output_type": "stream",
     "text": [
      "Cantidad de valores nulos en 'actor_names': 2414\n",
      "Cantidad de valores nulos en 'director_names': 771\n"
     ]
    }
   ],
   "source": [
    "# Contabilizamos los valores nulos en 'actor_names' y 'director_names'\n",
    "nulos_actor_names = credits_df['actor_names'].isna().sum()\n",
    "nulos_director_names = credits_df['director_names'].isna().sum()\n",
    "\n",
    "# Imprimimos los resultados\n",
    "print(f\"Cantidad de valores nulos en 'actor_names': {nulos_actor_names}\")\n",
    "print(f\"Cantidad de valores nulos en 'director_names': {nulos_director_names}\")\n"
   ]
  },
  {
   "cell_type": "code",
   "execution_count": 10,
   "metadata": {},
   "outputs": [
    {
     "name": "stdout",
     "output_type": "stream",
     "text": [
      "Tipos de 'actor_names':\n",
      "actor_names\n",
      "<class 'list'>                           43018\n",
      "<class 'pandas._libs.missing.NAType'>     2414\n",
      "Name: count, dtype: int64\n",
      "\n",
      "Tipos de 'director_names':\n",
      "director_names\n",
      "<class 'list'>                           44661\n",
      "<class 'pandas._libs.missing.NAType'>      771\n",
      "Name: count, dtype: int64\n"
     ]
    }
   ],
   "source": [
    "# Verificar el tipo de dato en cada fila para 'actor_names' y 'director_names'\n",
    "tipos_actor_names = credits_df['actor_names'].apply(type)\n",
    "tipos_director_names = credits_df['director_names'].apply(type)\n",
    "\n",
    "# Mostrar los tipos\n",
    "print(\"Tipos de 'actor_names':\")\n",
    "print(tipos_actor_names.value_counts())\n",
    "\n",
    "print(\"\\nTipos de 'director_names':\")\n",
    "print(tipos_director_names.value_counts())\n"
   ]
  },
  {
   "cell_type": "markdown",
   "metadata": {},
   "source": [
    "Al toparme con valores nulos en las columnas nuevas de actor_names y director_name, como son porcentajes minimos decido excluirlos."
   ]
  },
  {
   "cell_type": "code",
   "execution_count": 11,
   "metadata": {},
   "outputs": [
    {
     "name": "stdout",
     "output_type": "stream",
     "text": [
      "Filas restantes en credits_df: 42668\n"
     ]
    }
   ],
   "source": [
    "# Eliminamos filas con valores nulos en 'actor_names' y 'director_names'\n",
    "credits_df.dropna(subset=['actor_names', 'director_names'], inplace=True)\n",
    "\n",
    "# Verificamos cuántas filas quedan después de la eliminación\n",
    "print(f\"Filas restantes en credits_df: {credits_df.shape[0]}\")\n"
   ]
  },
  {
   "cell_type": "code",
   "execution_count": 12,
   "metadata": {},
   "outputs": [
    {
     "name": "stdout",
     "output_type": "stream",
     "text": [
      "0\n",
      "0\n"
     ]
    }
   ],
   "source": [
    "# Contabilizamos los valores nulos en 'actor_names' y 'director_names' luego del proceso\n",
    "nulos_actor_names = credits_df['actor_names'].isna().sum()\n",
    "nulos_director_names = credits_df['director_names'].isna().sum()\n",
    "print(nulos_actor_names)\n",
    "print(nulos_director_names)"
   ]
  },
  {
   "cell_type": "markdown",
   "metadata": {},
   "source": [
    "Elimino las columnas innecesarias"
   ]
  },
  {
   "cell_type": "code",
   "execution_count": 13,
   "metadata": {},
   "outputs": [
    {
     "name": "stdout",
     "output_type": "stream",
     "text": [
      "      id                                        actor_names     director_names\n",
      "0    862  [Tom Hanks, Tim Allen, Don Rickles, Jim Varney...    [John Lasseter]\n",
      "1   8844  [Robin Williams, Jonathan Hyde, Kirsten Dunst,...     [Joe Johnston]\n",
      "2  15602  [Walter Matthau, Jack Lemmon, Ann-Margret, Sop...    [Howard Deutch]\n",
      "3  31357  [Whitney Houston, Angela Bassett, Loretta Devi...  [Forest Whitaker]\n",
      "4  11862  [Steve Martin, Diane Keaton, Martin Short, Kim...    [Charles Shyer]\n"
     ]
    }
   ],
   "source": [
    "credits_df.drop(columns=['cast', 'crew'], inplace=True)\n",
    "\n",
    "# Verificamos el nuevo DataFrame\n",
    "print(credits_df.head())\n"
   ]
  },
  {
   "cell_type": "markdown",
   "metadata": {},
   "source": [
    "Se finaliza el proceso de transformaciones necesarias, se guarda el nuevo data set"
   ]
  },
  {
   "cell_type": "code",
   "execution_count": 14,
   "metadata": {},
   "outputs": [],
   "source": [
    "credits_df.to_csv('credits_ok.csv', index=False)"
   ]
  },
  {
   "cell_type": "markdown",
   "metadata": {},
   "source": [
    "Realizamos la unión de ambos data set limpios para disponer de toda la información junta para las consultas de la API"
   ]
  },
  {
   "cell_type": "code",
   "execution_count": 15,
   "metadata": {},
   "outputs": [
    {
     "name": "stdout",
     "output_type": "stream",
     "text": [
      "     budget     id                                           overview  popularity release_date      revenue                        title  vote_average  vote_count                 collection_name                         genre_names                                    companies_names               countries_names    spoken_language_names  release_year     return\n",
      "0  30000000    862  led by woody, andy's toys live happily in his ...   21.946943   1995-10-30  373554033.0                    toy story           7.7      5415.0            toy story collection   ['animation', 'comedy', 'family']                        ['pixar animation studios']  ['united states of america']              ['english']        1995.0  12.451801\n",
      "1  65000000   8844  when siblings judy and peter discover an encha...   17.015539   1995-12-15  262797249.0                      jumanji           6.9      2413.0                   sin colección  ['adventure', 'fantasy', 'family']  ['tristar pictures', 'teitler film', 'intersco...  ['united states of america']  ['english', 'français']        1995.0   4.043035\n",
      "2         0  15602  a family wedding reignites the ancient feud be...   11.712900   1995-12-22          0.0             grumpier old men           6.5        92.0       grumpy old men collection               ['romance', 'comedy']                 ['warner bros.', 'lancaster gate']  ['united states of america']              ['english']        1995.0   0.000000\n",
      "3  16000000  31357  cheated on, mistreated and stepped on, the wom...    3.859495   1995-12-22   81452156.0            waiting to exhale           6.1        34.0                   sin colección      ['comedy', 'drama', 'romance']         ['twentieth century fox film corporation']  ['united states of america']              ['english']        1995.0   5.090760\n",
      "4         0  11862  just when george banks has recovered from his ...    8.387519   1995-02-10   76578911.0  father of the bride part ii           5.7       173.0  father of the bride collection                          ['comedy']   ['sandollar productions', 'touchstone pictures']  ['united states of america']              ['english']        1995.0   0.000000\n",
      "      id                                        actor_names       director_names\n",
      "0    862  ['Tom Hanks', 'Tim Allen', 'Don Rickles', 'Jim...    ['John Lasseter']\n",
      "1   8844  ['Robin Williams', 'Jonathan Hyde', 'Kirsten D...     ['Joe Johnston']\n",
      "2  15602  ['Walter Matthau', 'Jack Lemmon', 'Ann-Margret...    ['Howard Deutch']\n",
      "3  31357  ['Whitney Houston', 'Angela Bassett', 'Loretta...  ['Forest Whitaker']\n",
      "4  11862  ['Steve Martin', 'Diane Keaton', 'Martin Short...    ['Charles Shyer']\n"
     ]
    }
   ],
   "source": [
    "# Cargamos el nuevo dataset de movies \n",
    "movies_ok = pd.read_csv('movies_ok.csv')  \n",
    "\n",
    "#Cargamos el nuevo dataset de credits\n",
    "credits_ok = pd.read_csv('credits_ok.csv')\n",
    "\n",
    "# Verifica que se haya cargado correctamente\n",
    "print(movies_ok.head())\n",
    "print(credits_ok.head())\n"
   ]
  },
  {
   "cell_type": "markdown",
   "metadata": {},
   "source": [
    "Chequeamos el tamaño del dataframe antes de hacer la unión."
   ]
  },
  {
   "cell_type": "code",
   "execution_count": 16,
   "metadata": {},
   "outputs": [
    {
     "name": "stdout",
     "output_type": "stream",
     "text": [
      "(42668, 3)\n"
     ]
    }
   ],
   "source": [
    "print(credits_ok.shape) #chequeamos tamaño de df antes de filtrarlo"
   ]
  },
  {
   "cell_type": "code",
   "execution_count": 17,
   "metadata": {},
   "outputs": [
    {
     "name": "stdout",
     "output_type": "stream",
     "text": [
      "     budget     id                                           overview  popularity release_date      revenue                        title  vote_average  vote_count                 collection_name                         genre_names                                    companies_names               countries_names    spoken_language_names  release_year     return                                        actor_names       director_names\n",
      "0  30000000    862  led by woody, andy's toys live happily in his ...   21.946943   1995-10-30  373554033.0                    toy story           7.7      5415.0            toy story collection   ['animation', 'comedy', 'family']                        ['pixar animation studios']  ['united states of america']              ['english']        1995.0  12.451801  ['Tom Hanks', 'Tim Allen', 'Don Rickles', 'Jim...    ['John Lasseter']\n",
      "1  65000000   8844  when siblings judy and peter discover an encha...   17.015539   1995-12-15  262797249.0                      jumanji           6.9      2413.0                   sin colección  ['adventure', 'fantasy', 'family']  ['tristar pictures', 'teitler film', 'intersco...  ['united states of america']  ['english', 'français']        1995.0   4.043035  ['Robin Williams', 'Jonathan Hyde', 'Kirsten D...     ['Joe Johnston']\n",
      "2         0  15602  a family wedding reignites the ancient feud be...   11.712900   1995-12-22          0.0             grumpier old men           6.5        92.0       grumpy old men collection               ['romance', 'comedy']                 ['warner bros.', 'lancaster gate']  ['united states of america']              ['english']        1995.0   0.000000  ['Walter Matthau', 'Jack Lemmon', 'Ann-Margret...    ['Howard Deutch']\n",
      "3  16000000  31357  cheated on, mistreated and stepped on, the wom...    3.859495   1995-12-22   81452156.0            waiting to exhale           6.1        34.0                   sin colección      ['comedy', 'drama', 'romance']         ['twentieth century fox film corporation']  ['united states of america']              ['english']        1995.0   5.090760  ['Whitney Houston', 'Angela Bassett', 'Loretta...  ['Forest Whitaker']\n",
      "4         0  11862  just when george banks has recovered from his ...    8.387519   1995-02-10   76578911.0  father of the bride part ii           5.7       173.0  father of the bride collection                          ['comedy']   ['sandollar productions', 'touchstone pictures']  ['united states of america']              ['english']        1995.0   0.000000  ['Steve Martin', 'Diane Keaton', 'Martin Short...    ['Charles Shyer']\n"
     ]
    }
   ],
   "source": [
    "# Unir el DataFrame de credits con el de movies\n",
    "merged_df = movies_ok.merge(credits_ok, on='id', how='left')\n",
    "\n",
    "# Verificamos el nuevo DataFrame\n",
    "print(merged_df.head())\n"
   ]
  },
  {
   "cell_type": "markdown",
   "metadata": {},
   "source": [
    "Revisamos que efectivamente se redujo el tamaño del dataframe"
   ]
  },
  {
   "cell_type": "code",
   "execution_count": 18,
   "metadata": {},
   "outputs": [
    {
     "name": "stdout",
     "output_type": "stream",
     "text": [
      "(21392, 18)\n"
     ]
    }
   ],
   "source": [
    "print(merged_df.shape) #chequeamos tamaño de df antes de filtrarlo"
   ]
  },
  {
   "cell_type": "markdown",
   "metadata": {},
   "source": [
    "Para realizar el modelo de recomendación, necesitaremos unificar en una sola columna, las columnas de género, director y país. "
   ]
  },
  {
   "cell_type": "code",
   "execution_count": 19,
   "metadata": {},
   "outputs": [],
   "source": [
    "# Hacemos una copia del DataFrame, es buena practica.\n",
    "merged_df = merged_df.copy()\n",
    "\n",
    "# Convertimos cada lista en una cadena de texto\n",
    "merged_df['genre_names'] = merged_df['genre_names'].apply(lambda x: ' '.join(x) if isinstance(x, list) else x)\n",
    "merged_df['director_names'] = merged_df['director_names'].apply(lambda x: ' '.join(x) if isinstance(x, list) else x)\n",
    "merged_df['countries_names'] = merged_df['countries_names'].apply(lambda x: ' '.join(x) if isinstance(x, list) else x)\n",
    "\n",
    "#Creamos la columna combinada \n",
    "merged_df['features'] = merged_df['genre_names'] + \" \" + merged_df['director_names'] + \" \" + merged_df['countries_names']\n",
    "\n",
    "#Manejo de Nan\n",
    "merged_df['features'] = merged_df['features'].fillna('')   \n",
    "\n",
    "\n"
   ]
  },
  {
   "cell_type": "markdown",
   "metadata": {},
   "source": [
    "Para finalizar, convertimos el archivo a parquet porque es una excelente idea para optimizar el almacenamiento y lectura de datos en la API y guardamos el nuevo dataset."
   ]
  },
  {
   "cell_type": "code",
   "execution_count": 20,
   "metadata": {},
   "outputs": [],
   "source": [
    "\n",
    "# Guardamos el nuevo dataset \n",
    "merged_df.to_parquet(\"dataset_ok.parquet\", index=False)\n",
    "\n",
    "merged_df.to_csv(\"dataset_ok.csv\", index=False)"
   ]
  },
  {
   "cell_type": "code",
   "execution_count": 22,
   "metadata": {},
   "outputs": [
    {
     "data": {
      "text/html": [
       "<div>\n",
       "<style scoped>\n",
       "    .dataframe tbody tr th:only-of-type {\n",
       "        vertical-align: middle;\n",
       "    }\n",
       "\n",
       "    .dataframe tbody tr th {\n",
       "        vertical-align: top;\n",
       "    }\n",
       "\n",
       "    .dataframe thead th {\n",
       "        text-align: right;\n",
       "    }\n",
       "</style>\n",
       "<table border=\"1\" class=\"dataframe\">\n",
       "  <thead>\n",
       "    <tr style=\"text-align: right;\">\n",
       "      <th></th>\n",
       "      <th>budget</th>\n",
       "      <th>id</th>\n",
       "      <th>overview</th>\n",
       "      <th>popularity</th>\n",
       "      <th>release_date</th>\n",
       "      <th>revenue</th>\n",
       "      <th>title</th>\n",
       "      <th>vote_average</th>\n",
       "      <th>vote_count</th>\n",
       "      <th>collection_name</th>\n",
       "      <th>genre_names</th>\n",
       "      <th>companies_names</th>\n",
       "      <th>countries_names</th>\n",
       "      <th>spoken_language_names</th>\n",
       "      <th>release_year</th>\n",
       "      <th>return</th>\n",
       "      <th>actor_names</th>\n",
       "      <th>director_names</th>\n",
       "      <th>features</th>\n",
       "    </tr>\n",
       "  </thead>\n",
       "  <tbody>\n",
       "    <tr>\n",
       "      <th>0</th>\n",
       "      <td>30000000</td>\n",
       "      <td>862</td>\n",
       "      <td>led by woody, andy's toys live happily in his ...</td>\n",
       "      <td>21.946943</td>\n",
       "      <td>1995-10-30</td>\n",
       "      <td>373554033.0</td>\n",
       "      <td>toy story</td>\n",
       "      <td>7.7</td>\n",
       "      <td>5415.0</td>\n",
       "      <td>toy story collection</td>\n",
       "      <td>['animation', 'comedy', 'family']</td>\n",
       "      <td>['pixar animation studios']</td>\n",
       "      <td>['united states of america']</td>\n",
       "      <td>['english']</td>\n",
       "      <td>1995.0</td>\n",
       "      <td>12.451801</td>\n",
       "      <td>['Tom Hanks', 'Tim Allen', 'Don Rickles', 'Jim...</td>\n",
       "      <td>['John Lasseter']</td>\n",
       "      <td>['animation', 'comedy', 'family'] ['John Lasse...</td>\n",
       "    </tr>\n",
       "    <tr>\n",
       "      <th>1</th>\n",
       "      <td>65000000</td>\n",
       "      <td>8844</td>\n",
       "      <td>when siblings judy and peter discover an encha...</td>\n",
       "      <td>17.015539</td>\n",
       "      <td>1995-12-15</td>\n",
       "      <td>262797249.0</td>\n",
       "      <td>jumanji</td>\n",
       "      <td>6.9</td>\n",
       "      <td>2413.0</td>\n",
       "      <td>sin colección</td>\n",
       "      <td>['adventure', 'fantasy', 'family']</td>\n",
       "      <td>['tristar pictures', 'teitler film', 'intersco...</td>\n",
       "      <td>['united states of america']</td>\n",
       "      <td>['english', 'français']</td>\n",
       "      <td>1995.0</td>\n",
       "      <td>4.043035</td>\n",
       "      <td>['Robin Williams', 'Jonathan Hyde', 'Kirsten D...</td>\n",
       "      <td>['Joe Johnston']</td>\n",
       "      <td>['adventure', 'fantasy', 'family'] ['Joe Johns...</td>\n",
       "    </tr>\n",
       "    <tr>\n",
       "      <th>2</th>\n",
       "      <td>0</td>\n",
       "      <td>15602</td>\n",
       "      <td>a family wedding reignites the ancient feud be...</td>\n",
       "      <td>11.712900</td>\n",
       "      <td>1995-12-22</td>\n",
       "      <td>0.0</td>\n",
       "      <td>grumpier old men</td>\n",
       "      <td>6.5</td>\n",
       "      <td>92.0</td>\n",
       "      <td>grumpy old men collection</td>\n",
       "      <td>['romance', 'comedy']</td>\n",
       "      <td>['warner bros.', 'lancaster gate']</td>\n",
       "      <td>['united states of america']</td>\n",
       "      <td>['english']</td>\n",
       "      <td>1995.0</td>\n",
       "      <td>0.000000</td>\n",
       "      <td>['Walter Matthau', 'Jack Lemmon', 'Ann-Margret...</td>\n",
       "      <td>['Howard Deutch']</td>\n",
       "      <td>['romance', 'comedy'] ['Howard Deutch'] ['unit...</td>\n",
       "    </tr>\n",
       "    <tr>\n",
       "      <th>3</th>\n",
       "      <td>16000000</td>\n",
       "      <td>31357</td>\n",
       "      <td>cheated on, mistreated and stepped on, the wom...</td>\n",
       "      <td>3.859495</td>\n",
       "      <td>1995-12-22</td>\n",
       "      <td>81452156.0</td>\n",
       "      <td>waiting to exhale</td>\n",
       "      <td>6.1</td>\n",
       "      <td>34.0</td>\n",
       "      <td>sin colección</td>\n",
       "      <td>['comedy', 'drama', 'romance']</td>\n",
       "      <td>['twentieth century fox film corporation']</td>\n",
       "      <td>['united states of america']</td>\n",
       "      <td>['english']</td>\n",
       "      <td>1995.0</td>\n",
       "      <td>5.090760</td>\n",
       "      <td>['Whitney Houston', 'Angela Bassett', 'Loretta...</td>\n",
       "      <td>['Forest Whitaker']</td>\n",
       "      <td>['comedy', 'drama', 'romance'] ['Forest Whitak...</td>\n",
       "    </tr>\n",
       "    <tr>\n",
       "      <th>4</th>\n",
       "      <td>0</td>\n",
       "      <td>11862</td>\n",
       "      <td>just when george banks has recovered from his ...</td>\n",
       "      <td>8.387519</td>\n",
       "      <td>1995-02-10</td>\n",
       "      <td>76578911.0</td>\n",
       "      <td>father of the bride part ii</td>\n",
       "      <td>5.7</td>\n",
       "      <td>173.0</td>\n",
       "      <td>father of the bride collection</td>\n",
       "      <td>['comedy']</td>\n",
       "      <td>['sandollar productions', 'touchstone pictures']</td>\n",
       "      <td>['united states of america']</td>\n",
       "      <td>['english']</td>\n",
       "      <td>1995.0</td>\n",
       "      <td>0.000000</td>\n",
       "      <td>['Steve Martin', 'Diane Keaton', 'Martin Short...</td>\n",
       "      <td>['Charles Shyer']</td>\n",
       "      <td>['comedy'] ['Charles Shyer'] ['united states o...</td>\n",
       "    </tr>\n",
       "    <tr>\n",
       "      <th>...</th>\n",
       "      <td>...</td>\n",
       "      <td>...</td>\n",
       "      <td>...</td>\n",
       "      <td>...</td>\n",
       "      <td>...</td>\n",
       "      <td>...</td>\n",
       "      <td>...</td>\n",
       "      <td>...</td>\n",
       "      <td>...</td>\n",
       "      <td>...</td>\n",
       "      <td>...</td>\n",
       "      <td>...</td>\n",
       "      <td>...</td>\n",
       "      <td>...</td>\n",
       "      <td>...</td>\n",
       "      <td>...</td>\n",
       "      <td>...</td>\n",
       "      <td>...</td>\n",
       "      <td>...</td>\n",
       "    </tr>\n",
       "    <tr>\n",
       "      <th>21387</th>\n",
       "      <td>0</td>\n",
       "      <td>289923</td>\n",
       "      <td>a film archivist revisits the story of rustin ...</td>\n",
       "      <td>0.386450</td>\n",
       "      <td>2000-10-03</td>\n",
       "      <td>0.0</td>\n",
       "      <td>the burkittsville 7</td>\n",
       "      <td>7.0</td>\n",
       "      <td>1.0</td>\n",
       "      <td>sin colección</td>\n",
       "      <td>['horror']</td>\n",
       "      <td>['neptune salad entertainment', 'pirie product...</td>\n",
       "      <td>['united states of america']</td>\n",
       "      <td>['english']</td>\n",
       "      <td>2000.0</td>\n",
       "      <td>0.000000</td>\n",
       "      <td>['Monty Bane', 'Lucy Butler', 'David Grammer',...</td>\n",
       "      <td>['Ben Rock']</td>\n",
       "      <td>['horror'] ['Ben Rock'] ['united states of ame...</td>\n",
       "    </tr>\n",
       "    <tr>\n",
       "      <th>21388</th>\n",
       "      <td>0</td>\n",
       "      <td>222848</td>\n",
       "      <td>it's the year 3000 ad. the world's most danger...</td>\n",
       "      <td>0.661558</td>\n",
       "      <td>1995-01-01</td>\n",
       "      <td>0.0</td>\n",
       "      <td>caged heat 3000</td>\n",
       "      <td>3.5</td>\n",
       "      <td>1.0</td>\n",
       "      <td>sin colección</td>\n",
       "      <td>['science fiction']</td>\n",
       "      <td>['concorde-new horizons']</td>\n",
       "      <td>['united states of america']</td>\n",
       "      <td>['english']</td>\n",
       "      <td>1995.0</td>\n",
       "      <td>0.000000</td>\n",
       "      <td>['Lisa Boyle', 'Kena Land', 'Zaneta Polard', '...</td>\n",
       "      <td>['Aaron Osborne']</td>\n",
       "      <td>['science fiction'] ['Aaron Osborne'] ['united...</td>\n",
       "    </tr>\n",
       "    <tr>\n",
       "      <th>21389</th>\n",
       "      <td>0</td>\n",
       "      <td>30840</td>\n",
       "      <td>yet another version of the classic epic, with ...</td>\n",
       "      <td>5.683753</td>\n",
       "      <td>1991-05-13</td>\n",
       "      <td>0.0</td>\n",
       "      <td>robin hood</td>\n",
       "      <td>5.7</td>\n",
       "      <td>26.0</td>\n",
       "      <td>sin colección</td>\n",
       "      <td>['drama', 'action', 'romance']</td>\n",
       "      <td>['westdeutscher rundfunk (wdr)', 'working titl...</td>\n",
       "      <td>['canada', 'germany', 'united kingdom', 'unite...</td>\n",
       "      <td>['english']</td>\n",
       "      <td>1991.0</td>\n",
       "      <td>0.000000</td>\n",
       "      <td>['Patrick Bergin', 'Uma Thurman', 'David Morri...</td>\n",
       "      <td>['John Irvin']</td>\n",
       "      <td>['drama', 'action', 'romance'] ['John Irvin'] ...</td>\n",
       "    </tr>\n",
       "    <tr>\n",
       "      <th>21390</th>\n",
       "      <td>0</td>\n",
       "      <td>67758</td>\n",
       "      <td>when one of her hits goes wrong, a professiona...</td>\n",
       "      <td>0.903007</td>\n",
       "      <td>2003-08-01</td>\n",
       "      <td>0.0</td>\n",
       "      <td>betrayal</td>\n",
       "      <td>3.8</td>\n",
       "      <td>6.0</td>\n",
       "      <td>sin colección</td>\n",
       "      <td>['action', 'drama', 'thriller']</td>\n",
       "      <td>['american world pictures']</td>\n",
       "      <td>['united states of america']</td>\n",
       "      <td>['english']</td>\n",
       "      <td>2003.0</td>\n",
       "      <td>0.000000</td>\n",
       "      <td>['Erika Eleniak', 'Adam Baldwin', 'Julie du Pa...</td>\n",
       "      <td>['Mark L. Lester']</td>\n",
       "      <td>['action', 'drama', 'thriller'] ['Mark L. Lest...</td>\n",
       "    </tr>\n",
       "    <tr>\n",
       "      <th>21391</th>\n",
       "      <td>0</td>\n",
       "      <td>461257</td>\n",
       "      <td>50 years after decriminalisation of homosexual...</td>\n",
       "      <td>0.163015</td>\n",
       "      <td>2017-06-09</td>\n",
       "      <td>0.0</td>\n",
       "      <td>queerama</td>\n",
       "      <td>0.0</td>\n",
       "      <td>0.0</td>\n",
       "      <td>sin colección</td>\n",
       "      <td>[]</td>\n",
       "      <td>[]</td>\n",
       "      <td>['united kingdom']</td>\n",
       "      <td>['english']</td>\n",
       "      <td>2017.0</td>\n",
       "      <td>0.000000</td>\n",
       "      <td>NaN</td>\n",
       "      <td>NaN</td>\n",
       "      <td></td>\n",
       "    </tr>\n",
       "  </tbody>\n",
       "</table>\n",
       "<p>21392 rows × 19 columns</p>\n",
       "</div>"
      ],
      "text/plain": [
       "         budget      id                                           overview  popularity release_date      revenue                        title  vote_average  vote_count                 collection_name                         genre_names                                    companies_names                                    countries_names    spoken_language_names  release_year     return                                        actor_names       director_names                                           features\n",
       "0      30000000     862  led by woody, andy's toys live happily in his ...   21.946943   1995-10-30  373554033.0                    toy story           7.7      5415.0            toy story collection   ['animation', 'comedy', 'family']                        ['pixar animation studios']                       ['united states of america']              ['english']        1995.0  12.451801  ['Tom Hanks', 'Tim Allen', 'Don Rickles', 'Jim...    ['John Lasseter']  ['animation', 'comedy', 'family'] ['John Lasse...\n",
       "1      65000000    8844  when siblings judy and peter discover an encha...   17.015539   1995-12-15  262797249.0                      jumanji           6.9      2413.0                   sin colección  ['adventure', 'fantasy', 'family']  ['tristar pictures', 'teitler film', 'intersco...                       ['united states of america']  ['english', 'français']        1995.0   4.043035  ['Robin Williams', 'Jonathan Hyde', 'Kirsten D...     ['Joe Johnston']  ['adventure', 'fantasy', 'family'] ['Joe Johns...\n",
       "2             0   15602  a family wedding reignites the ancient feud be...   11.712900   1995-12-22          0.0             grumpier old men           6.5        92.0       grumpy old men collection               ['romance', 'comedy']                 ['warner bros.', 'lancaster gate']                       ['united states of america']              ['english']        1995.0   0.000000  ['Walter Matthau', 'Jack Lemmon', 'Ann-Margret...    ['Howard Deutch']  ['romance', 'comedy'] ['Howard Deutch'] ['unit...\n",
       "3      16000000   31357  cheated on, mistreated and stepped on, the wom...    3.859495   1995-12-22   81452156.0            waiting to exhale           6.1        34.0                   sin colección      ['comedy', 'drama', 'romance']         ['twentieth century fox film corporation']                       ['united states of america']              ['english']        1995.0   5.090760  ['Whitney Houston', 'Angela Bassett', 'Loretta...  ['Forest Whitaker']  ['comedy', 'drama', 'romance'] ['Forest Whitak...\n",
       "4             0   11862  just when george banks has recovered from his ...    8.387519   1995-02-10   76578911.0  father of the bride part ii           5.7       173.0  father of the bride collection                          ['comedy']   ['sandollar productions', 'touchstone pictures']                       ['united states of america']              ['english']        1995.0   0.000000  ['Steve Martin', 'Diane Keaton', 'Martin Short...    ['Charles Shyer']  ['comedy'] ['Charles Shyer'] ['united states o...\n",
       "...         ...     ...                                                ...         ...          ...          ...                          ...           ...         ...                             ...                                 ...                                                ...                                                ...                      ...           ...        ...                                                ...                  ...                                                ...\n",
       "21387         0  289923  a film archivist revisits the story of rustin ...    0.386450   2000-10-03          0.0          the burkittsville 7           7.0         1.0                   sin colección                          ['horror']  ['neptune salad entertainment', 'pirie product...                       ['united states of america']              ['english']        2000.0   0.000000  ['Monty Bane', 'Lucy Butler', 'David Grammer',...         ['Ben Rock']  ['horror'] ['Ben Rock'] ['united states of ame...\n",
       "21388         0  222848  it's the year 3000 ad. the world's most danger...    0.661558   1995-01-01          0.0              caged heat 3000           3.5         1.0                   sin colección                 ['science fiction']                          ['concorde-new horizons']                       ['united states of america']              ['english']        1995.0   0.000000  ['Lisa Boyle', 'Kena Land', 'Zaneta Polard', '...    ['Aaron Osborne']  ['science fiction'] ['Aaron Osborne'] ['united...\n",
       "21389         0   30840  yet another version of the classic epic, with ...    5.683753   1991-05-13          0.0                   robin hood           5.7        26.0                   sin colección      ['drama', 'action', 'romance']  ['westdeutscher rundfunk (wdr)', 'working titl...  ['canada', 'germany', 'united kingdom', 'unite...              ['english']        1991.0   0.000000  ['Patrick Bergin', 'Uma Thurman', 'David Morri...       ['John Irvin']  ['drama', 'action', 'romance'] ['John Irvin'] ...\n",
       "21390         0   67758  when one of her hits goes wrong, a professiona...    0.903007   2003-08-01          0.0                     betrayal           3.8         6.0                   sin colección     ['action', 'drama', 'thriller']                        ['american world pictures']                       ['united states of america']              ['english']        2003.0   0.000000  ['Erika Eleniak', 'Adam Baldwin', 'Julie du Pa...   ['Mark L. Lester']  ['action', 'drama', 'thriller'] ['Mark L. Lest...\n",
       "21391         0  461257  50 years after decriminalisation of homosexual...    0.163015   2017-06-09          0.0                     queerama           0.0         0.0                   sin colección                                  []                                                 []                                 ['united kingdom']              ['english']        2017.0   0.000000                                                NaN                  NaN                                                   \n",
       "\n",
       "[21392 rows x 19 columns]"
      ]
     },
     "execution_count": 22,
     "metadata": {},
     "output_type": "execute_result"
    }
   ],
   "source": [
    "merged_df   #Imprimimos para chequear que esté todo aplicado correctamente"
   ]
  },
  {
   "cell_type": "code",
   "execution_count": null,
   "metadata": {},
   "outputs": [],
   "source": []
  }
 ],
 "metadata": {
  "kernelspec": {
   "display_name": "pi1",
   "language": "python",
   "name": "python3"
  },
  "language_info": {
   "codemirror_mode": {
    "name": "ipython",
    "version": 3
   },
   "file_extension": ".py",
   "mimetype": "text/x-python",
   "name": "python",
   "nbconvert_exporter": "python",
   "pygments_lexer": "ipython3",
   "version": "3.13.0"
  }
 },
 "nbformat": 4,
 "nbformat_minor": 2
}
